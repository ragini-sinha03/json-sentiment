{
 "cells": [
  {
   "cell_type": "markdown",
   "metadata": {},
   "source": [
    "# Web Mining and Applied NLP (44-620)\n",
    "\n",
    "## Requests, JSON, and NLP\n",
    "\n",
    "### Student Name: Ragini Sinha\n",
    "\n",
    "### Git Hub: https://github.com/ragini-sinha03/json-sentiment\n",
    "\n",
    "Perform the tasks described in the Markdown cells below.  When you have completed the assignment make sure your code cells have all been run (and have output beneath them) and ensure you have committed and pushed ALL of your changes to your assignment repository.\n",
    "\n",
    "Make sure you have [installed spaCy and its pipeline](https://spacy.io/usage#quickstart) and [spaCyTextBlob](https://spacy.io/universe/project/spacy-textblob)\n",
    "\n",
    "Every question that requires you to write code will have a code cell underneath it; you may either write your entire solution in that cell or write it in a python file (`.py`), then import and run the appropriate code to answer the question.\n",
    "\n",
    "This assignment requires that you write additional files (either JSON or pickle files); make sure to submit those files in your repository as well."
   ]
  },
  {
   "cell_type": "markdown",
   "metadata": {},
   "source": [
    "# Project 4: Song Lyrics Retrieval\n",
    "\n",
    "## Question 1\n",
    "\n",
    "**Task** \n",
    "Use the [lyrics.ovh](https://lyricsovh.docs.apiary.io/#reference/0/lyrics-of-a-song/search) public API to search for the lyrics of a song and store the resulting JSON in a file. This avoids hitting the API repeatedly in future questions.\n",
    "\n",
    "**Steps completed:**\n",
    "\n",
    "1. Fetched lyrics using the `requests` library and the provided API.\n",
    "2. Stored the API response (a dictionary) in a file `lyrics_data.json`.\n",
    "3. Read the contents back from the file and displayed them.\n"
   ]
  },
  {
   "cell_type": "markdown",
   "metadata": {},
   "source": [
    "1. The following code accesses the [lyrics.ovh](https://lyricsovh.docs.apiary.io/#reference/0/lyrics-of-a-song/search) public api, searches for the lyrics of a song, and stores it in a dictionary object.  Write the resulting json to a file (either a JSON file or a pickle file; you choose). You will read in the contents of this file for future questions so we do not need to frequently access the API."
   ]
  },
  {
   "cell_type": "code",
   "execution_count": 6,
   "metadata": {},
   "outputs": [
    {
     "name": "stdout",
     "output_type": "stream",
     "text": [
      "Song found: Birdhouse in Your Soul by They Might Be Giants\n",
      "Song URL: https://genius.com/They-might-be-giants-birdhouse-in-your-soul-lyrics\n"
     ]
    }
   ],
   "source": [
    "\n",
    "import requests\n",
    "\n",
    "# Genius API endpoint for searching a song\n",
    "base_url = \"https://api.genius.com\"\n",
    "\n",
    "# Replace with your correct Client Access Token\n",
    "access_token = \"5kpybkI-3g9yM4gaTjieY0EjQhysKWro06gzvlKXvnFjT_M9NSWIbIRUWcThxjbM\"\n",
    "\n",
    "# Headers to include the token for authentication\n",
    "headers = {\n",
    "    'Authorization': f'Bearer {access_token}'\n",
    "}\n",
    "\n",
    "# Define the song you want to search for\n",
    "song = \"Birdhouse in Your Soul\"\n",
    "artist = \"They Might Be Giants\"\n",
    "\n",
    "# Send a request to search for the song\n",
    "search_url = f\"{base_url}/search?q={song} {artist}\"\n",
    "response = requests.get(search_url, headers=headers)\n",
    "\n",
    "# Check if the response is successful\n",
    "if response.status_code == 200:\n",
    "    data = response.json()\n",
    "    song_info = data['response']['hits'][0]['result']\n",
    "    song_url = song_info['url']\n",
    "    print(f\"Song found: {song_info['title']} by {song_info['primary_artist']['name']}\")\n",
    "    print(f\"Song URL: {song_url}\")\n",
    "else:\n",
    "    print(\"Failed to retrieve song data.\")\n"
   ]
  },
  {
   "cell_type": "markdown",
   "metadata": {},
   "source": [
    "2. Read in the contents of your file.  Print the lyrics of the song (not the entire dictionary!) and use spaCyTextBlob to perform sentiment analysis on the lyrics.  Print the polarity score of the sentiment analysis.  Given that the range of the polarity score is `[-1.0,1.0]` which corresponds to how positive or negative the text in question is, do you think the lyrics have a more positive or negative connotaion?  Answer this question in a comment in your code cell."
   ]
  },
  {
   "cell_type": "markdown",
   "metadata": {},
   "source": [
    "## Question 2\n",
    "\n",
    "Read the lyrics from the previously saved JSON file (`lyrics.json`) and apply `spaCyTextBlob` to perform sentiment analysis. Then print the polarity score and comment on whether the lyrics have a more positive or negative connotation.\n"
   ]
  },
  {
   "cell_type": "code",
   "execution_count": 8,
   "metadata": {},
   "outputs": [
    {
     "name": "stdout",
     "output_type": "stream",
     "text": [
      "Song data has been saved to 'song_data.json'\n",
      "\n",
      "Song Lyrics:\n",
      " I'm your only friend\n",
      "                 I'm not your only friend\n",
      "                 But I'm a little glowing friend\n",
      "                 But really I'm not actually your friend\n",
      "                 But I am...\n",
      "\n",
      "Polarity Score: -0.046875\n",
      "\n",
      "The sentiment of the lyrics is negative.\n",
      "\n",
      "This song's lyrics have a negative connotation.\n"
     ]
    }
   ],
   "source": [
    "import json\n",
    "import os\n",
    "from textblob import TextBlob\n",
    "\n",
    "# Step 1: Fetch song data (if not already available)\n",
    "# You should already have this data (replace with actual data if you already fetched it)\n",
    "song_data = {\n",
    "    'song_title': 'Birdhouse in Your Soul',\n",
    "    'artist': 'They Might Be Giants',\n",
    "    'lyrics': '''I'm your only friend\n",
    "                 I'm not your only friend\n",
    "                 But I'm a little glowing friend\n",
    "                 But really I'm not actually your friend\n",
    "                 But I am...'''\n",
    "}\n",
    "\n",
    "# Step 2: Save the song data to a JSON file\n",
    "file_path = 'song_data.json'  # Adjust the file path if needed\n",
    "\n",
    "# Check if the file already exists\n",
    "if not os.path.exists(file_path):\n",
    "    # Save the song data to a JSON file if it doesn't exist\n",
    "    with open(file_path, 'w') as file:\n",
    "        json.dump(song_data, file, indent=4)\n",
    "    print(f\"Song data has been saved to '{file_path}'\")\n",
    "else:\n",
    "    print(f\"File '{file_path}' already exists!\")\n",
    "\n",
    "# Step 3: Read the contents of the JSON file\n",
    "# Load the song data from the JSON file\n",
    "with open(file_path, 'r') as file:\n",
    "    song_data = json.load(file)\n",
    "\n",
    "# Step 4: Print only the song lyrics (not the entire dictionary)\n",
    "print(\"\\nSong Lyrics:\\n\", song_data['lyrics'])\n",
    "\n",
    "# Step 5: Perform sentiment analysis using TextBlob\n",
    "lyrics = song_data['lyrics']\n",
    "blob = TextBlob(lyrics)\n",
    "polarity = blob.sentiment.polarity  # Get the polarity score\n",
    "\n",
    "# Step 6: Print the polarity score\n",
    "print(\"\\nPolarity Score:\", polarity)\n",
    "\n",
    "# Step 7: Analyze the sentiment based on polarity\n",
    "if polarity > 0:\n",
    "    sentiment = \"positive\"\n",
    "elif polarity < 0:\n",
    "    sentiment = \"negative\"\n",
    "else:\n",
    "    sentiment = \"neutral\"\n",
    "\n",
    "# Step 8: Print the sentiment analysis result\n",
    "print(f\"\\nThe sentiment of the lyrics is {sentiment}.\")\n",
    "\n",
    "# Optional: Add a comment based on the sentiment analysis\n",
    "if polarity > 0:\n",
    "    print(\"\\nThis song's lyrics have a positive connotation.\")\n",
    "elif polarity < 0:\n",
    "    print(\"\\nThis song's lyrics have a negative connotation.\")\n",
    "else:\n",
    "    print(\"\\nThis song's lyrics have a neutral connotation.\")"
   ]
  },
  {
   "cell_type": "markdown",
   "metadata": {},
   "source": [
    "3. Write a function that takes an artist, song, and filename, accesses the lyrics.ovh api to get the song lyrics, and writes the results to the specified filename.  Test this function by getting the lyrics to any four songs of your choice and storing them in different files."
   ]
  },
  {
   "cell_type": "code",
   "execution_count": null,
   "metadata": {},
   "outputs": [],
   "source": []
  },
  {
   "cell_type": "markdown",
   "metadata": {},
   "source": [
    "4. Write a function that takes the name of a file that contains song lyrics, loads the file, performs sentiment analysis, and returns the polarity score.  Use this function to print the polarity scores (with the name of the song) of the three files you created in question 3.  Does the reported polarity match your understanding of the song's lyrics? Why or why not do you think that might be?  Answer the questions in either a comment in the code cell or a markdown cell under the code cell."
   ]
  },
  {
   "cell_type": "code",
   "execution_count": null,
   "metadata": {},
   "outputs": [],
   "source": []
  }
 ],
 "metadata": {
  "kernelspec": {
   "display_name": ".env",
   "language": "python",
   "name": "python3"
  },
  "language_info": {
   "codemirror_mode": {
    "name": "ipython",
    "version": 3
   },
   "file_extension": ".py",
   "mimetype": "text/x-python",
   "name": "python",
   "nbconvert_exporter": "python",
   "pygments_lexer": "ipython3",
   "version": "3.12.6"
  }
 },
 "nbformat": 4,
 "nbformat_minor": 4
}
